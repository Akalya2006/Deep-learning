{
 "cells": [
  {
   "cell_type": "code",
   "execution_count": 1,
   "id": "7c37577b-3c1a-47dc-8155-798ff440506f",
   "metadata": {},
   "outputs": [
    {
     "name": "stdout",
     "output_type": "stream",
     "text": [
      "downloading Olivetti faces from https://ndownloader.figshare.com/files/5976027 to C:\\Users\\srmmc\\scikit_learn_data\n"
     ]
    },
    {
     "name": "stderr",
     "output_type": "stream",
     "text": [
      "C:\\Users\\srmmc\\.matplotlib\\IEE\\Lib\\site-packages\\keras\\src\\layers\\convolutional\\base_conv.py:113: UserWarning: Do not pass an `input_shape`/`input_dim` argument to a layer. When using Sequential models, prefer using an `Input(shape)` object as the first layer in the model instead.\n",
      "  super().__init__(activity_regularizer=activity_regularizer, **kwargs)\n"
     ]
    },
    {
     "name": "stdout",
     "output_type": "stream",
     "text": [
      "Epoch 1/10\n",
      "\u001b[1m10/10\u001b[0m \u001b[32m━━━━━━━━━━━━━━━━━━━━\u001b[0m\u001b[37m\u001b[0m \u001b[1m2s\u001b[0m 103ms/step - accuracy: 0.0156 - loss: 4.2039 - val_accuracy: 0.0125 - val_loss: 3.9205\n",
      "Epoch 2/10\n",
      "\u001b[1m10/10\u001b[0m \u001b[32m━━━━━━━━━━━━━━━━━━━━\u001b[0m\u001b[37m\u001b[0m \u001b[1m1s\u001b[0m 87ms/step - accuracy: 0.0562 - loss: 3.7254 - val_accuracy: 0.0125 - val_loss: 3.7059\n",
      "Epoch 3/10\n",
      "\u001b[1m10/10\u001b[0m \u001b[32m━━━━━━━━━━━━━━━━━━━━\u001b[0m\u001b[37m\u001b[0m \u001b[1m1s\u001b[0m 88ms/step - accuracy: 0.0781 - loss: 3.5861 - val_accuracy: 0.0750 - val_loss: 3.6304\n",
      "Epoch 4/10\n",
      "\u001b[1m10/10\u001b[0m \u001b[32m━━━━━━━━━━━━━━━━━━━━\u001b[0m\u001b[37m\u001b[0m \u001b[1m1s\u001b[0m 87ms/step - accuracy: 0.1250 - loss: 3.4912 - val_accuracy: 0.1000 - val_loss: 3.6083\n",
      "Epoch 5/10\n",
      "\u001b[1m10/10\u001b[0m \u001b[32m━━━━━━━━━━━━━━━━━━━━\u001b[0m\u001b[37m\u001b[0m \u001b[1m1s\u001b[0m 84ms/step - accuracy: 0.1781 - loss: 3.3596 - val_accuracy: 0.1500 - val_loss: 3.5016\n",
      "Epoch 6/10\n",
      "\u001b[1m10/10\u001b[0m \u001b[32m━━━━━━━━━━━━━━━━━━━━\u001b[0m\u001b[37m\u001b[0m \u001b[1m1s\u001b[0m 83ms/step - accuracy: 0.3781 - loss: 3.1658 - val_accuracy: 0.2625 - val_loss: 3.3319\n",
      "Epoch 7/10\n",
      "\u001b[1m10/10\u001b[0m \u001b[32m━━━━━━━━━━━━━━━━━━━━\u001b[0m\u001b[37m\u001b[0m \u001b[1m1s\u001b[0m 83ms/step - accuracy: 0.4031 - loss: 2.9423 - val_accuracy: 0.3125 - val_loss: 3.1873\n",
      "Epoch 8/10\n",
      "\u001b[1m10/10\u001b[0m \u001b[32m━━━━━━━━━━━━━━━━━━━━\u001b[0m\u001b[37m\u001b[0m \u001b[1m1s\u001b[0m 89ms/step - accuracy: 0.5312 - loss: 2.6582 - val_accuracy: 0.3625 - val_loss: 2.9248\n",
      "Epoch 9/10\n",
      "\u001b[1m10/10\u001b[0m \u001b[32m━━━━━━━━━━━━━━━━━━━━\u001b[0m\u001b[37m\u001b[0m \u001b[1m1s\u001b[0m 83ms/step - accuracy: 0.5500 - loss: 2.3500 - val_accuracy: 0.2375 - val_loss: 2.7948\n",
      "Epoch 10/10\n",
      "\u001b[1m10/10\u001b[0m \u001b[32m━━━━━━━━━━━━━━━━━━━━\u001b[0m\u001b[37m\u001b[0m \u001b[1m1s\u001b[0m 86ms/step - accuracy: 0.6094 - loss: 2.0803 - val_accuracy: 0.4500 - val_loss: 2.4526\n"
     ]
    },
    {
     "data": {
      "text/plain": [
       "<keras.src.callbacks.history.History at 0x299c5937620>"
      ]
     },
     "execution_count": 1,
     "metadata": {},
     "output_type": "execute_result"
    }
   ],
   "source": [
    "from sklearn.datasets import fetch_olivetti_faces \n",
    "from sklearn.model_selection import train_test_split \n",
    "from keras.models import Sequential \n",
    "from keras.layers import Conv2D, MaxPooling2D, Flatten, Dense \n",
    "from keras.utils import to_categorical \n",
    "import numpy as np \n",
    "# Load data \n",
    "faces = fetch_olivetti_faces() \n",
    "X, y = faces.images, faces.target \n",
    "X = X.reshape(-1, 64, 64, 1) \n",
    "X = X.astype('float32') \n",
    "y = to_categorical(y) \n",
    "# Train-test split \n",
    "X_train, X_test, y_train, y_test = train_test_split(X, y, test_size=0.2) \n",
    "# CNN Model \n",
    "model = Sequential([ \n",
    "Conv2D(32, (3,3), activation='relu', input_shape=(64,64,1)), \n",
    "MaxPooling2D((2,2)), \n",
    "Flatten(), \n",
    "Dense(256, activation='relu'), \n",
    "Dense(40, activation='softmax') \n",
    "]) \n",
    "model.compile(optimizer='adam', loss='categorical_crossentropy', \n",
    "metrics=['accuracy']) \n",
    "model.fit(X_train, y_train, epochs=10, validation_data=(X_test, y_test)) \n"
   ]
  },
  {
   "cell_type": "code",
   "execution_count": null,
   "id": "d95653a1-b291-4c00-9330-6e76a555d245",
   "metadata": {},
   "outputs": [],
   "source": []
  }
 ],
 "metadata": {
  "kernelspec": {
   "display_name": "Python [conda env:IEE]",
   "language": "python",
   "name": "conda-env-IEE-py"
  },
  "language_info": {
   "codemirror_mode": {
    "name": "ipython",
    "version": 3
   },
   "file_extension": ".py",
   "mimetype": "text/x-python",
   "name": "python",
   "nbconvert_exporter": "python",
   "pygments_lexer": "ipython3",
   "version": "3.12.7"
  }
 },
 "nbformat": 4,
 "nbformat_minor": 5
}
